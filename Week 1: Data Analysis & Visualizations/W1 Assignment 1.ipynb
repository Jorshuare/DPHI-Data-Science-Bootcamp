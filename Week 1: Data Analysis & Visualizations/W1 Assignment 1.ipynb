{
 "cells": [
  {
   "cell_type": "code",
   "execution_count": 2,
   "metadata": {},
   "outputs": [],
   "source": [
    "import pandas as pd\n",
    "\n",
    "df = pd.read_csv(\"https://raw.githubusercontent.com/dphi-official/Datasets/master/Standard_Metropolitan_Areas_Data-data.csv\")"
   ]
  },
  {
   "cell_type": "code",
   "execution_count": 4,
   "metadata": {},
   "outputs": [
    {
     "data": {
      "text/html": [
       "<div>\n",
       "<style scoped>\n",
       "    .dataframe tbody tr th:only-of-type {\n",
       "        vertical-align: middle;\n",
       "    }\n",
       "\n",
       "    .dataframe tbody tr th {\n",
       "        vertical-align: top;\n",
       "    }\n",
       "\n",
       "    .dataframe thead th {\n",
       "        text-align: right;\n",
       "    }\n",
       "</style>\n",
       "<table border=\"1\" class=\"dataframe\">\n",
       "  <thead>\n",
       "    <tr style=\"text-align: right;\">\n",
       "      <th></th>\n",
       "      <th>land_area</th>\n",
       "      <th>percent_city</th>\n",
       "      <th>percent_senior</th>\n",
       "      <th>physicians</th>\n",
       "      <th>hospital_beds</th>\n",
       "      <th>graduates</th>\n",
       "      <th>work_force</th>\n",
       "      <th>income</th>\n",
       "      <th>region</th>\n",
       "      <th>crime_rate</th>\n",
       "    </tr>\n",
       "  </thead>\n",
       "  <tbody>\n",
       "    <tr>\n",
       "      <td>0</td>\n",
       "      <td>1384</td>\n",
       "      <td>78.1</td>\n",
       "      <td>12.3</td>\n",
       "      <td>25627</td>\n",
       "      <td>69678</td>\n",
       "      <td>50.1</td>\n",
       "      <td>4083.9</td>\n",
       "      <td>72100</td>\n",
       "      <td>1</td>\n",
       "      <td>75.55</td>\n",
       "    </tr>\n",
       "    <tr>\n",
       "      <td>1</td>\n",
       "      <td>3719</td>\n",
       "      <td>43.9</td>\n",
       "      <td>9.4</td>\n",
       "      <td>13326</td>\n",
       "      <td>43292</td>\n",
       "      <td>53.9</td>\n",
       "      <td>3305.9</td>\n",
       "      <td>54542</td>\n",
       "      <td>2</td>\n",
       "      <td>56.03</td>\n",
       "    </tr>\n",
       "    <tr>\n",
       "      <td>2</td>\n",
       "      <td>3553</td>\n",
       "      <td>37.4</td>\n",
       "      <td>10.7</td>\n",
       "      <td>9724</td>\n",
       "      <td>33731</td>\n",
       "      <td>50.6</td>\n",
       "      <td>2066.3</td>\n",
       "      <td>33216</td>\n",
       "      <td>1</td>\n",
       "      <td>41.32</td>\n",
       "    </tr>\n",
       "    <tr>\n",
       "      <td>3</td>\n",
       "      <td>3916</td>\n",
       "      <td>29.9</td>\n",
       "      <td>8.8</td>\n",
       "      <td>6402</td>\n",
       "      <td>24167</td>\n",
       "      <td>52.2</td>\n",
       "      <td>1966.7</td>\n",
       "      <td>32906</td>\n",
       "      <td>2</td>\n",
       "      <td>67.38</td>\n",
       "    </tr>\n",
       "    <tr>\n",
       "      <td>4</td>\n",
       "      <td>2480</td>\n",
       "      <td>31.5</td>\n",
       "      <td>10.5</td>\n",
       "      <td>8502</td>\n",
       "      <td>16751</td>\n",
       "      <td>66.1</td>\n",
       "      <td>1514.5</td>\n",
       "      <td>26573</td>\n",
       "      <td>4</td>\n",
       "      <td>80.19</td>\n",
       "    </tr>\n",
       "    <tr>\n",
       "      <td>...</td>\n",
       "      <td>...</td>\n",
       "      <td>...</td>\n",
       "      <td>...</td>\n",
       "      <td>...</td>\n",
       "      <td>...</td>\n",
       "      <td>...</td>\n",
       "      <td>...</td>\n",
       "      <td>...</td>\n",
       "      <td>...</td>\n",
       "      <td>...</td>\n",
       "    </tr>\n",
       "    <tr>\n",
       "      <td>94</td>\n",
       "      <td>1511</td>\n",
       "      <td>38.7</td>\n",
       "      <td>10.7</td>\n",
       "      <td>348</td>\n",
       "      <td>1093</td>\n",
       "      <td>50.4</td>\n",
       "      <td>127.2</td>\n",
       "      <td>1452</td>\n",
       "      <td>4</td>\n",
       "      <td>70.66</td>\n",
       "    </tr>\n",
       "    <tr>\n",
       "      <td>95</td>\n",
       "      <td>1543</td>\n",
       "      <td>39.6</td>\n",
       "      <td>8.1</td>\n",
       "      <td>159</td>\n",
       "      <td>481</td>\n",
       "      <td>30.3</td>\n",
       "      <td>80.6</td>\n",
       "      <td>769</td>\n",
       "      <td>3</td>\n",
       "      <td>36.36</td>\n",
       "    </tr>\n",
       "    <tr>\n",
       "      <td>96</td>\n",
       "      <td>1011</td>\n",
       "      <td>37.8</td>\n",
       "      <td>10.5</td>\n",
       "      <td>264</td>\n",
       "      <td>964</td>\n",
       "      <td>70.7</td>\n",
       "      <td>93.2</td>\n",
       "      <td>1337</td>\n",
       "      <td>3</td>\n",
       "      <td>60.16</td>\n",
       "    </tr>\n",
       "    <tr>\n",
       "      <td>97</td>\n",
       "      <td>813</td>\n",
       "      <td>13.4</td>\n",
       "      <td>10.9</td>\n",
       "      <td>371</td>\n",
       "      <td>4355</td>\n",
       "      <td>58.0</td>\n",
       "      <td>97.0</td>\n",
       "      <td>1589</td>\n",
       "      <td>1</td>\n",
       "      <td>36.33</td>\n",
       "    </tr>\n",
       "    <tr>\n",
       "      <td>98</td>\n",
       "      <td>654</td>\n",
       "      <td>28.8</td>\n",
       "      <td>3.9</td>\n",
       "      <td>140</td>\n",
       "      <td>1296</td>\n",
       "      <td>55.1</td>\n",
       "      <td>66.9</td>\n",
       "      <td>1148</td>\n",
       "      <td>3</td>\n",
       "      <td>68.76</td>\n",
       "    </tr>\n",
       "  </tbody>\n",
       "</table>\n",
       "<p>99 rows × 10 columns</p>\n",
       "</div>"
      ],
      "text/plain": [
       "    land_area  percent_city  percent_senior  physicians  hospital_beds  \\\n",
       "0        1384          78.1            12.3       25627          69678   \n",
       "1        3719          43.9             9.4       13326          43292   \n",
       "2        3553          37.4            10.7        9724          33731   \n",
       "3        3916          29.9             8.8        6402          24167   \n",
       "4        2480          31.5            10.5        8502          16751   \n",
       "..        ...           ...             ...         ...            ...   \n",
       "94       1511          38.7            10.7         348           1093   \n",
       "95       1543          39.6             8.1         159            481   \n",
       "96       1011          37.8            10.5         264            964   \n",
       "97        813          13.4            10.9         371           4355   \n",
       "98        654          28.8             3.9         140           1296   \n",
       "\n",
       "    graduates  work_force  income  region  crime_rate  \n",
       "0        50.1      4083.9   72100       1       75.55  \n",
       "1        53.9      3305.9   54542       2       56.03  \n",
       "2        50.6      2066.3   33216       1       41.32  \n",
       "3        52.2      1966.7   32906       2       67.38  \n",
       "4        66.1      1514.5   26573       4       80.19  \n",
       "..        ...         ...     ...     ...         ...  \n",
       "94       50.4       127.2    1452       4       70.66  \n",
       "95       30.3        80.6     769       3       36.36  \n",
       "96       70.7        93.2    1337       3       60.16  \n",
       "97       58.0        97.0    1589       1       36.33  \n",
       "98       55.1        66.9    1148       3       68.76  \n",
       "\n",
       "[99 rows x 10 columns]"
      ]
     },
     "execution_count": 4,
     "metadata": {},
     "output_type": "execute_result"
    }
   ],
   "source": [
    "df"
   ]
  },
  {
   "cell_type": "code",
   "execution_count": 3,
   "metadata": {},
   "outputs": [
    {
     "data": {
      "text/plain": [
       "'0.25.1'"
      ]
     },
     "execution_count": 3,
     "metadata": {},
     "output_type": "execute_result"
    }
   ],
   "source": [
    "pd.__version__"
   ]
  },
  {
   "cell_type": "code",
   "execution_count": 5,
   "metadata": {},
   "outputs": [
    {
     "name": "stdout",
     "output_type": "stream",
     "text": [
      "<class 'pandas.core.frame.DataFrame'>\n",
      "RangeIndex: 99 entries, 0 to 98\n",
      "Data columns (total 10 columns):\n",
      "land_area         99 non-null int64\n",
      "percent_city      99 non-null float64\n",
      "percent_senior    99 non-null float64\n",
      "physicians        99 non-null int64\n",
      "hospital_beds     99 non-null int64\n",
      "graduates         99 non-null float64\n",
      "work_force        99 non-null float64\n",
      "income            99 non-null int64\n",
      "region            99 non-null int64\n",
      "crime_rate        99 non-null float64\n",
      "dtypes: float64(5), int64(5)\n",
      "memory usage: 7.9 KB\n"
     ]
    }
   ],
   "source": [
    "df.info()"
   ]
  },
  {
   "cell_type": "code",
   "execution_count": 1,
   "metadata": {},
   "outputs": [
    {
     "name": "stdout",
     "output_type": "stream",
     "text": [
      "Hello World\n"
     ]
    }
   ],
   "source": [
    "print(\"Hello World\")"
   ]
  },
  {
   "cell_type": "code",
   "execution_count": 11,
   "metadata": {},
   "outputs": [
    {
     "data": {
      "text/html": [
       "<div>\n",
       "<style scoped>\n",
       "    .dataframe tbody tr th:only-of-type {\n",
       "        vertical-align: middle;\n",
       "    }\n",
       "\n",
       "    .dataframe tbody tr th {\n",
       "        vertical-align: top;\n",
       "    }\n",
       "\n",
       "    .dataframe thead th {\n",
       "        text-align: right;\n",
       "    }\n",
       "</style>\n",
       "<table border=\"1\" class=\"dataframe\">\n",
       "  <thead>\n",
       "    <tr style=\"text-align: right;\">\n",
       "      <th></th>\n",
       "      <th>land_area</th>\n",
       "      <th>percent_city</th>\n",
       "      <th>percent_senior</th>\n",
       "      <th>physicians</th>\n",
       "      <th>hospital_beds</th>\n",
       "      <th>graduates</th>\n",
       "      <th>work_force</th>\n",
       "      <th>income</th>\n",
       "      <th>region</th>\n",
       "      <th>crime_rate</th>\n",
       "    </tr>\n",
       "  </thead>\n",
       "  <tbody>\n",
       "    <tr>\n",
       "      <td>4</td>\n",
       "      <td>2480</td>\n",
       "      <td>31.5</td>\n",
       "      <td>10.5</td>\n",
       "      <td>8502</td>\n",
       "      <td>16751</td>\n",
       "      <td>66.1</td>\n",
       "      <td>1514.5</td>\n",
       "      <td>26573</td>\n",
       "      <td>4</td>\n",
       "      <td>80.19</td>\n",
       "    </tr>\n",
       "    <tr>\n",
       "      <td>13</td>\n",
       "      <td>782</td>\n",
       "      <td>28.4</td>\n",
       "      <td>7.8</td>\n",
       "      <td>3119</td>\n",
       "      <td>8656</td>\n",
       "      <td>70.5</td>\n",
       "      <td>915.2</td>\n",
       "      <td>12591</td>\n",
       "      <td>4</td>\n",
       "      <td>63.20</td>\n",
       "    </tr>\n",
       "    <tr>\n",
       "      <td>14</td>\n",
       "      <td>4226</td>\n",
       "      <td>38.1</td>\n",
       "      <td>9.8</td>\n",
       "      <td>3285</td>\n",
       "      <td>5392</td>\n",
       "      <td>67.8</td>\n",
       "      <td>699.8</td>\n",
       "      <td>10918</td>\n",
       "      <td>4</td>\n",
       "      <td>64.05</td>\n",
       "    </tr>\n",
       "    <tr>\n",
       "      <td>18</td>\n",
       "      <td>27293</td>\n",
       "      <td>25.3</td>\n",
       "      <td>12.3</td>\n",
       "      <td>2018</td>\n",
       "      <td>6323</td>\n",
       "      <td>57.4</td>\n",
       "      <td>510.6</td>\n",
       "      <td>7399</td>\n",
       "      <td>4</td>\n",
       "      <td>76.03</td>\n",
       "    </tr>\n",
       "    <tr>\n",
       "      <td>20</td>\n",
       "      <td>9155</td>\n",
       "      <td>53.8</td>\n",
       "      <td>11.1</td>\n",
       "      <td>2280</td>\n",
       "      <td>6450</td>\n",
       "      <td>60.1</td>\n",
       "      <td>575.2</td>\n",
       "      <td>7766</td>\n",
       "      <td>4</td>\n",
       "      <td>85.62</td>\n",
       "    </tr>\n",
       "  </tbody>\n",
       "</table>\n",
       "</div>"
      ],
      "text/plain": [
       "    land_area  percent_city  percent_senior  physicians  hospital_beds  \\\n",
       "4        2480          31.5            10.5        8502          16751   \n",
       "13        782          28.4             7.8        3119           8656   \n",
       "14       4226          38.1             9.8        3285           5392   \n",
       "18      27293          25.3            12.3        2018           6323   \n",
       "20       9155          53.8            11.1        2280           6450   \n",
       "\n",
       "    graduates  work_force  income  region  crime_rate  \n",
       "4        66.1      1514.5   26573       4       80.19  \n",
       "13       70.5       915.2   12591       4       63.20  \n",
       "14       67.8       699.8   10918       4       64.05  \n",
       "18       57.4       510.6    7399       4       76.03  \n",
       "20       60.1       575.2    7766       4       85.62  "
      ]
     },
     "execution_count": 11,
     "metadata": {},
     "output_type": "execute_result"
    }
   ],
   "source": [
    "df[df[\"region\"] == 4].head(5)"
   ]
  },
  {
   "cell_type": "code",
   "execution_count": 19,
   "metadata": {},
   "outputs": [],
   "source": [
    "import matplotlib.pyplot as plt\n",
    "import numpy as np"
   ]
  },
  {
   "cell_type": "code",
   "execution_count": 31,
   "metadata": {},
   "outputs": [
    {
     "data": {
      "image/png": "[encoded data removed]",
      "text/plain": [
       "<Figure size 432x288 with 1 Axes>"
      ]
     },
     "metadata": {
      "needs_background": "light"
     },
     "output_type": "display_data"
    }
   ],
   "source": [
    "x = np.array([2,4,7,8])\n",
    "y = np.array([5,3,6,5])\n",
    "plt.bar(x,y);"
   ]
  },
  {
   "cell_type": "code",
   "execution_count": 35,
   "metadata": {},
   "outputs": [
    {
     "data": {
      "image/png": "[encoded data removed]",
      "text/plain": [
       "<Figure size 432x288 with 1 Axes>"
      ]
     },
     "metadata": {
      "needs_background": "light"
     },
     "output_type": "display_data"
    }
   ],
   "source": [
    "x = df[\"land_area\"]\n",
    "y = df.crime_rate\n",
    "\n",
    "plt.plot(x,y);"
   ]
  },
  {
   "cell_type": "code",
   "execution_count": 40,
   "metadata": {},
   "outputs": [
    {
     "data": {
      "image/png": "[encoded data removed]",
      "text/plain": [
       "<Figure size 432x288 with 1 Axes>"
      ]
     },
     "metadata": {
      "needs_background": "light"
     },
     "output_type": "display_data"
    }
   ],
   "source": [
    "y = df.hospital_beds\n",
    "x = df.physicians\n",
    "\n",
    "plt.title(\"Physicians Vs Hospital Beds\")\n",
    "plt.ylabel(\"hospital_beds\")\n",
    "plt.xlabel('physicians')\n",
    "\n",
    "plt.scatter(x,y);"
   ]
  },
  {
   "cell_type": "code",
   "execution_count": 90,
   "metadata": {},
   "outputs": [
    {
     "data": {
      "image/png": "[encoded data removed]",
      "text/plain": [
       "<Figure size 432x288 with 1 Axes>"
      ]
     },
     "metadata": {
      "needs_background": "light"
     },
     "output_type": "display_data"
    }
   ],
   "source": [
    "x = np.arange(1,5)\n",
    "\n",
    "y = np.array([21,25,35,17])\n",
    "plt.bar(x=x,height=y);"
   ]
  },
  {
   "cell_type": "code",
   "execution_count": 81,
   "metadata": {},
   "outputs": [
    {
     "name": "stdout",
     "output_type": "stream",
     "text": [
      "[0 1 2 3 4]\n"
     ]
    },
    {
     "data": {
      "image/png": "[encoded data removed]",
      "text/plain": [
       "<Figure size 432x288 with 1 Axes>"
      ]
     },
     "metadata": {
      "needs_background": "light"
     },
     "output_type": "display_data"
    }
   ],
   "source": [
    "divisions = [\"A\", \"B\", \"C\", \"D\", \"E\"]\n",
    "division_avg = [70, 82, 73, 65, 68]\n",
    "boys_avg = [68, 67, 77, 61, 70]\n",
    "\n",
    "# Using the NumPy arange function to generate values for index between 0-4.\n",
    "# Here,stop is 5, start is 0, and step is 1\n",
    "index = np.arange(5)\n",
    "print(index)\n",
    "width = 0.30\n",
    "\n",
    "plt.bar(x=index, height=division_avg, width=width, color=\"green\", label=\"Division Marks\")\n",
    "# plt.bar(index+width, boys_avg, width, color=\"blue\", label=\"Boys Marks\")\n",
    "\n",
    "plt.title(\"Bar Graph\")\n",
    "plt.xlabel(\"Divisions\")\n",
    "plt.ylabel(\"Marks\")\n",
    "plt.show()"
   ]
  },
  {
   "cell_type": "code",
   "execution_count": 60,
   "metadata": {},
   "outputs": [
    {
     "ename": "TypeError",
     "evalue": "bar() missing 2 required positional arguments: 'x' and 'height'",
     "output_type": "error",
     "traceback": [
      "\u001b[1;31m---------------------------------------------------------------------------\u001b[0m",
      "\u001b[1;31mTypeError\u001b[0m                                 Traceback (most recent call last)",
      "\u001b[1;32m<ipython-input-60-bb3c5f7e493f>\u001b[0m in \u001b[0;36m<module>\u001b[1;34m\u001b[0m\n\u001b[1;32m----> 1\u001b[1;33m \u001b[0mplt\u001b[0m\u001b[1;33m.\u001b[0m\u001b[0mbar\u001b[0m\u001b[1;33m(\u001b[0m\u001b[1;33m)\u001b[0m\u001b[1;33m\u001b[0m\u001b[1;33m\u001b[0m\u001b[0m\n\u001b[0m",
      "\u001b[1;31mTypeError\u001b[0m: bar() missing 2 required positional arguments: 'x' and 'height'"
     ]
    }
   ],
   "source": [
    "plt.bar()"
   ]
  },
  {
   "cell_type": "code",
   "execution_count": null,
   "metadata": {},
   "outputs": [],
   "source": []
  }
 ],
 "metadata": {
  "kernelspec": {
   "display_name": "Python 3",
   "language": "python",
   "name": "python3"
  },
  "language_info": {
   "codemirror_mode": {
    "name": "ipython",
    "version": 3
   },
   "file_extension": ".py",
   "mimetype": "text/x-python",
   "name": "python",
   "nbconvert_exporter": "python",
   "pygments_lexer": "ipython3",
   "version": "3.7.4"
  }
 },
 "nbformat": 4,
 "nbformat_minor": 2
}
