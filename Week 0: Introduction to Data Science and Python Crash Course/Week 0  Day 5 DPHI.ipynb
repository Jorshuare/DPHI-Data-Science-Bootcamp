{
 "cells": [
  {
   "cell_type": "markdown",
   "metadata": {},
   "source": [
    "# Array, Vector and Matrices"
   ]
  },
  {
   "cell_type": "markdown",
   "metadata": {},
   "source": [
    "## Arrays\n",
    "* An array is similar to a list. We can have them in dimensions e.g [[2,4,5,[3,9]] - \n",
    "* List are only used to store a multiple data type while array a single\n",
    "* A list can hold multiple data types while array is just one"
   ]
  },
  {
   "cell_type": "markdown",
   "metadata": {},
   "source": [
    "# Vectors\n",
    "* Is a type of array that is one dimensional\n",
    "\n",
    "## Matrix\n",
    "* Matrix are arrangement of numbers into rows and columns (vertical)"
   ]
  },
  {
   "cell_type": "code",
   "execution_count": null,
   "metadata": {},
   "outputs": [],
   "source": [
    "# for 2x3 Matrix that's 2D"
   ]
  },
  {
   "cell_type": "code",
   "execution_count": 4,
   "metadata": {},
   "outputs": [
    {
     "data": {
      "text/plain": [
       "'1.16.5'"
      ]
     },
     "execution_count": 4,
     "metadata": {},
     "output_type": "execute_result"
    }
   ],
   "source": [
    "import numpy as np\n",
    "\n",
    "np.__version__"
   ]
  },
  {
   "cell_type": "code",
   "execution_count": 10,
   "metadata": {},
   "outputs": [
    {
     "name": "stdout",
     "output_type": "stream",
     "text": [
      "<class 'list'>\n"
     ]
    }
   ],
   "source": [
    "height = [165, 170, 171, 180, 189, 178]\n",
    "print(type(height))"
   ]
  },
  {
   "cell_type": "code",
   "execution_count": 6,
   "metadata": {},
   "outputs": [
    {
     "name": "stdout",
     "output_type": "stream",
     "text": [
      "<class 'numpy.ndarray'>\n"
     ]
    }
   ],
   "source": [
    "heights_np = np.array(height)\n",
    "print(type(heights_np))"
   ]
  },
  {
   "cell_type": "code",
   "execution_count": 65,
   "metadata": {},
   "outputs": [
    {
     "name": "stdout",
     "output_type": "stream",
     "text": [
      "[[50 45 56 78]\n",
      " [78 89 59 90]\n",
      " [89 78 69 70]\n",
      " [67 69 89 70]\n",
      " [90 89 80 84]\n",
      " [89 59 90 78]]\n"
     ]
    }
   ],
   "source": [
    "weights = np.array([[50, 45, 56, 78], [78, 89, 59, 90],[89, 78, 69, 70],[67, 69, 89, 70],[90,89, 80, 84],[89, 59, 90, 78]])\n",
    "print(weights)"
   ]
  },
  {
   "cell_type": "markdown",
   "metadata": {},
   "source": [
    "\n",
    "# Attributes of ndarray Object\n",
    "\n",
    "- ndim: number of dimensions of the array\n",
    "- shape: shape of the arry in the format (num_rows, no_columns)\n",
    "- size: total number of elements\n",
    "- dtypes: type of data stored in the array\n",
    "- strides: number of bytes that must be moved to store each row and column in memory in the format (no_bytes_files, no_bytes_volumns)"
   ]
  },
  {
   "cell_type": "code",
   "execution_count": 55,
   "metadata": {},
   "outputs": [
    {
     "name": "stdout",
     "output_type": "stream",
     "text": [
      "dimension: 1\n",
      "size: 5\n",
      "Data type: int32\n",
      "(16, 4)\n"
     ]
    }
   ],
   "source": [
    "a = np.array([1,2,3,5,8])\n",
    "\n",
    "print(\"dimension:\", a.ndim)\n",
    "print(\"size:\", a.size)\n",
    "print(\"Data type:\", a.dtype)\n",
    "print(weights.strides)"
   ]
  },
  {
   "cell_type": "markdown",
   "metadata": {},
   "source": [
    "- int32 dtypes because each element of the array is a 32-bit (4-byte) integer\n",
    "- strides of (16, 4) since 16 bytes (4 integers of 4 bytes in the rows) are needed to store each row in memory and 4 bytes (1 -- integer per column) to store each column in memory."
   ]
  },
  {
   "cell_type": "code",
   "execution_count": 18,
   "metadata": {},
   "outputs": [],
   "source": [
    "# print(list(a))  # converts the array to a list"
   ]
  },
  {
   "cell_type": "markdown",
   "metadata": {},
   "source": [
    "## Exercise 1\n",
    "Convert the two-dimensional ndarray weights into a three-dimensional object without changing its shape."
   ]
  },
  {
   "cell_type": "code",
   "execution_count": 25,
   "metadata": {},
   "outputs": [
    {
     "name": "stdout",
     "output_type": "stream",
     "text": [
      "3\n",
      "(1, 3, 4)\n"
     ]
    }
   ],
   "source": [
    "new = np.array([[[2,3,4,2], [2,4,6,9],[4,6,8,9]]]) # just adding an extra [] increases the dimension by 1\n",
    "print(new.ndim)\n",
    "print(new.shape)"
   ]
  },
  {
   "cell_type": "code",
   "execution_count": 63,
   "metadata": {},
   "outputs": [
    {
     "name": "stdout",
     "output_type": "stream",
     "text": [
      "2\n",
      "(6, 4)\n"
     ]
    }
   ],
   "source": [
    "\n",
    "print(weights.ndim)\n",
    "print(weights.shape)"
   ]
  },
  {
   "cell_type": "markdown",
   "metadata": {},
   "source": [
    "## 4. Exploring some of the key functions defined for numpy arrays\n",
    "In this section we are going to explore some of the most important functions of numpy arrays:\n",
    "\n",
    "* zeros(shape=(n,m)): Allows to create a zero-array with the shape (n rows, m columns)\n",
    "* arange(start=i, stop=j, step=u): creates a one-dimensional array whose first value is i inclusive, last value is j exclusive, and each value varies s steps from the previous.\n",
    "* linspace(start=i, stop=j, num=n): creates a one-dimensional array whose first value is i inclusive, last value is j inclusive and contains n values in total. Each value differs from the previous one with the same magnitude that differs from the next.\n",
    "* full(shape=(n,m), fill_value=f): Allows to create an array with the shape (n rows,m columns), where all positions have the value f."
   ]
  },
  {
   "cell_type": "code",
   "execution_count": 40,
   "metadata": {},
   "outputs": [
    {
     "name": "stdout",
     "output_type": "stream",
     "text": [
      "[[0 0 0 0 0 0]\n",
      " [0 0 0 0 0 0]\n",
      " [0 0 0 0 0 0]]\n"
     ]
    }
   ],
   "source": [
    "x = np.zeros(shape=(3,6), dtype=\"int64\") # creates an array of 3 rows, 6 columns with data type int\n",
    "print(x)"
   ]
  },
  {
   "cell_type": "code",
   "execution_count": 57,
   "metadata": {},
   "outputs": [
    {
     "name": "stdout",
     "output_type": "stream",
     "text": [
      "[100 250 400 550 700 850]\n"
     ]
    }
   ],
   "source": [
    "x = np.arange(start=100, stop=1000, step=150, dtype=\"int32\")\n",
    "print(x)"
   ]
  },
  {
   "cell_type": "code",
   "execution_count": 58,
   "metadata": {},
   "outputs": [
    {
     "name": "stdout",
     "output_type": "stream",
     "text": [
      "[ 10.          13.10344828  16.20689655  19.31034483  22.4137931\n",
      "  25.51724138  28.62068966  31.72413793  34.82758621  37.93103448\n",
      "  41.03448276  44.13793103  47.24137931  50.34482759  53.44827586\n",
      "  56.55172414  59.65517241  62.75862069  65.86206897  68.96551724\n",
      "  72.06896552  75.17241379  78.27586207  81.37931034  84.48275862\n",
      "  87.5862069   90.68965517  93.79310345  96.89655172 100.        ]\n"
     ]
    }
   ],
   "source": [
    "x_lin = np.linspace(start=10, stop=100, num=30) # creates 30 numbers of array from 10 to 100\n",
    "print(x_lin)"
   ]
  },
  {
   "cell_type": "markdown",
   "metadata": {},
   "source": [
    "- X_line;; Each value differs from the previous one with the same magnitude that differs from the next. "
   ]
  },
  {
   "cell_type": "code",
   "execution_count": 61,
   "metadata": {},
   "outputs": [
    {
     "name": "stdout",
     "output_type": "stream",
     "text": [
      "[[4 4 4 4 4 4]\n",
      " [4 4 4 4 4 4]]\n"
     ]
    }
   ],
   "source": [
    "x_full = np.full(shape=(2,6), fill_value=4)\n",
    "print(x_full)"
   ]
  },
  {
   "cell_type": "markdown",
   "metadata": {},
   "source": [
    "## 5. Exploring additional attributes and functions\n",
    "Let's review three additional functions: .reshape(), .flatten() and .ravel()."
   ]
  },
  {
   "cell_type": "code",
   "execution_count": 70,
   "metadata": {},
   "outputs": [
    {
     "name": "stdout",
     "output_type": "stream",
     "text": [
      "[[50 45 56 78]\n",
      " [78 89 59 90]\n",
      " [89 78 69 70]\n",
      " [67 69 89 70]\n",
      " [90 89 80 84]\n",
      " [89 59 90 78]]\n",
      "\n",
      "(6, 4)\n"
     ]
    }
   ],
   "source": [
    "print(weights)\n",
    "print()\n",
    "print(weights.shape)"
   ]
  },
  {
   "cell_type": "code",
   "execution_count": 84,
   "metadata": {},
   "outputs": [
    {
     "data": {
      "text/plain": [
       "array([[50, 45, 56, 78, 78, 89],\n",
       "       [59, 90, 89, 78, 69, 70],\n",
       "       [67, 69, 89, 70, 90, 89],\n",
       "       [80, 84, 89, 59, 90, 78]])"
      ]
     },
     "execution_count": 84,
     "metadata": {},
     "output_type": "execute_result"
    }
   ],
   "source": [
    "reshaped = weights.reshape((4,6)) # converts the weights array to a 4 rows, 6 columns array. Note it take a tuple\n",
    "reshaped"
   ]
  },
  {
   "cell_type": "code",
   "execution_count": 88,
   "metadata": {},
   "outputs": [
    {
     "data": {
      "text/plain": [
       "(4, 6)"
      ]
     },
     "execution_count": 88,
     "metadata": {},
     "output_type": "execute_result"
    }
   ],
   "source": [
    "reshaped.shape"
   ]
  },
  {
   "cell_type": "code",
   "execution_count": 92,
   "metadata": {},
   "outputs": [
    {
     "data": {
      "text/plain": [
       "array([[[50, 45],\n",
       "        [56, 78],\n",
       "        [78, 89],\n",
       "        [59, 90],\n",
       "        [89, 78],\n",
       "        [69, 70]],\n",
       "\n",
       "       [[67, 69],\n",
       "        [89, 70],\n",
       "        [90, 89],\n",
       "        [80, 84],\n",
       "        [89, 59],\n",
       "        [90, 78]]])"
      ]
     },
     "execution_count": 92,
     "metadata": {},
     "output_type": "execute_result"
    }
   ],
   "source": [
    "weights = weights.reshape((2,6,2)) # converts it to a 2D array with 6 rows and 2 columns\n",
    "weights"
   ]
  },
  {
   "cell_type": "code",
   "execution_count": 91,
   "metadata": {},
   "outputs": [
    {
     "data": {
      "text/plain": [
       "(2, 6, 2)"
      ]
     },
     "execution_count": 91,
     "metadata": {},
     "output_type": "execute_result"
    }
   ],
   "source": [
    "weights.shape"
   ]
  },
  {
   "cell_type": "code",
   "execution_count": 86,
   "metadata": {},
   "outputs": [
    {
     "data": {
      "text/plain": [
       "array([50, 45, 56, 78, 78, 89, 59, 90, 89, 78, 69, 70, 67, 69, 89, 70, 90,\n",
       "       89, 80, 84, 89, 59, 90, 78])"
      ]
     },
     "execution_count": 86,
     "metadata": {},
     "output_type": "execute_result"
    }
   ],
   "source": [
    "flat = weights.flatten() # converts the weight to a 1D\n",
    "flat"
   ]
  },
  {
   "cell_type": "markdown",
   "metadata": {},
   "source": [
    "#  Ravel\n",
    "\n",
    "The .ravel() function returns a flattened view of an array collapsed into one dimension. It works identically to the .flatten() function, although a copy in memory is not achieve, just a flatten view of the final result."
   ]
  },
  {
   "cell_type": "code",
   "execution_count": 93,
   "metadata": {},
   "outputs": [
    {
     "data": {
      "text/plain": [
       "array([[[50, 45],\n",
       "        [56, 78],\n",
       "        [78, 89],\n",
       "        [59, 90],\n",
       "        [89, 78],\n",
       "        [69, 70]],\n",
       "\n",
       "       [[67, 69],\n",
       "        [89, 70],\n",
       "        [90, 89],\n",
       "        [80, 84],\n",
       "        [89, 59],\n",
       "        [90, 78]]])"
      ]
     },
     "execution_count": 93,
     "metadata": {},
     "output_type": "execute_result"
    }
   ],
   "source": [
    "weights"
   ]
  },
  {
   "cell_type": "code",
   "execution_count": 94,
   "metadata": {},
   "outputs": [
    {
     "data": {
      "text/plain": [
       "array([50, 45, 56, 78, 78, 89, 59, 90, 89, 78, 69, 70, 67, 69, 89, 70, 90,\n",
       "       89, 80, 84, 89, 59, 90, 78])"
      ]
     },
     "execution_count": 94,
     "metadata": {},
     "output_type": "execute_result"
    }
   ],
   "source": [
    "rav = weights.ravel()\n",
    "rav"
   ]
  },
  {
   "cell_type": "markdown",
   "metadata": {},
   "source": [
    "Some key differences between flattening and raveling the array are:\n",
    "\n",
    "- ravel() function simply returns a flattened view of Numpy array. If you try to modify this view, you will end up with that same changes in the original array. flatten() function returns a flattened copy in memory of the array, so that new changes can be made without affecting the original array.\n",
    "- ravel() does not occupy memory, being faster than flatten(), which occupies memory when copying the flattened objects."
   ]
  },
  {
   "cell_type": "markdown",
   "metadata": {},
   "source": [
    "## Exercise 2\n",
    "Create an array of 51 elements starting at 100 and ending at 500, using the two functions np.linspace() and np.arange(). Arrays must have the same content, with the names array_lin and array_ara, respectively. Verify that the arrays have the same content with the np.array_equal() function."
   ]
  },
  {
   "cell_type": "code",
   "execution_count": 130,
   "metadata": {},
   "outputs": [
    {
     "name": "stdout",
     "output_type": "stream",
     "text": [
      "51\n"
     ]
    },
    {
     "data": {
      "text/plain": [
       "array([100., 108., 116., 124., 132., 140., 148., 156., 164., 172., 180.,\n",
       "       188., 196., 204., 212., 220., 228., 236., 244., 252., 260., 268.,\n",
       "       276., 284., 292., 300., 308., 316., 324., 332., 340., 348., 356.,\n",
       "       364., 372., 380., 388., 396., 404., 412., 420., 428., 436., 444.,\n",
       "       452., 460., 468., 476., 484., 492., 500.])"
      ]
     },
     "execution_count": 130,
     "metadata": {},
     "output_type": "execute_result"
    }
   ],
   "source": [
    "ass = np.linspace(start=100, stop=500, num=51)\n",
    "print(len(ass))\n",
    "ass"
   ]
  },
  {
   "cell_type": "code",
   "execution_count": 135,
   "metadata": {},
   "outputs": [
    {
     "name": "stdout",
     "output_type": "stream",
     "text": [
      "51\n"
     ]
    },
    {
     "data": {
      "text/plain": [
       "array([100., 108., 116., 124., 132., 140., 148., 156., 164., 172., 180.,\n",
       "       188., 196., 204., 212., 220., 228., 236., 244., 252., 260., 268.,\n",
       "       276., 284., 292., 300., 308., 316., 324., 332., 340., 348., 356.,\n",
       "       364., 372., 380., 388., 396., 404., 412., 420., 428., 436., 444.,\n",
       "       452., 460., 468., 476., 484., 492., 500.])"
      ]
     },
     "execution_count": 135,
     "metadata": {},
     "output_type": "execute_result"
    }
   ],
   "source": [
    "ass2 =np.arange(start=100, stop=508, step=8.0) # note arange() excempt the stop value\n",
    "print(len(ass2))\n",
    "ass2"
   ]
  },
  {
   "cell_type": "code",
   "execution_count": 136,
   "metadata": {},
   "outputs": [
    {
     "data": {
      "text/plain": [
       "True"
      ]
     },
     "execution_count": 136,
     "metadata": {},
     "output_type": "execute_result"
    }
   ],
   "source": [
    "verify = np.array_equal(ass, ass2)\n",
    "verify"
   ]
  },
  {
   "cell_type": "markdown",
   "metadata": {},
   "source": [
    "## 6.Array indexing\n",
    "To access the content of an array we can use indexing through brackets [ ]. When using the brackets, we can access the elements on the list by:\n",
    "\n",
    "1. Using a positive single index starting from 0\n",
    "2. Using a negative single index starting from -1\n",
    "3. Using positive index intervals using the start:end:step notation to specify starting and ending values as well as the step.\n",
    "4. Using negative index intervals using the start:end:step notation to specify negative index starting and ending values as well as the step.\n",
    "\n",
    "Occasionally, we can:\n",
    "\n",
    "* Get ride of the the step value as sart:end, so that by default we slice the data with a step of 1.\n",
    "* Get ride of the start value as :fin:step, and hence our start index will be 0, by default.\n",
    "- Omit the end value as start::step, specifying the final position as the end index by default.\n",
    "- Specify the range as ::step, and hence the start position will be 0 and the end position will be the last one of the array."
   ]
  },
  {
   "cell_type": "code",
   "execution_count": 141,
   "metadata": {},
   "outputs": [
    {
     "data": {
      "text/plain": [
       "array([[50, 45, 56, 78],\n",
       "       [78, 89, 59, 90],\n",
       "       [89, 78, 69, 70],\n",
       "       [67, 69, 89, 70],\n",
       "       [90, 89, 80, 84],\n",
       "       [89, 59, 90, 78]])"
      ]
     },
     "execution_count": 141,
     "metadata": {},
     "output_type": "execute_result"
    }
   ],
   "source": [
    "new_weights = weights.reshape((6,4))\n",
    "new_weights"
   ]
  },
  {
   "cell_type": "code",
   "execution_count": 143,
   "metadata": {},
   "outputs": [
    {
     "data": {
      "text/plain": [
       "array([50, 45, 56, 78])"
      ]
     },
     "execution_count": 143,
     "metadata": {},
     "output_type": "execute_result"
    }
   ],
   "source": [
    "new_weights[0]"
   ]
  },
  {
   "cell_type": "code",
   "execution_count": 144,
   "metadata": {},
   "outputs": [],
   "source": [
    "heights = np.array([165, 170, 171, 180, 189, 178])"
   ]
  },
  {
   "cell_type": "code",
   "execution_count": 150,
   "metadata": {},
   "outputs": [
    {
     "name": "stdout",
     "output_type": "stream",
     "text": [
      "180\n",
      "Single element in a 2D array: 59\n"
     ]
    }
   ],
   "source": [
    "print(heights[3]) # works similar to list slicing\n",
    "print(\"Single element in a 2D array:\", new_weights[1][2])"
   ]
  },
  {
   "cell_type": "markdown",
   "metadata": {},
   "source": [
    "          0,  1,  2\n",
    "      ([[50, 45, 56, 78], ---- 0\n",
    "       [78, 89, 59, 90], ----- 1\n",
    "       [89, 78, 69, 70],\n",
    "       [67, 69, 89, 70],\n",
    "       [90, 89, 80, 84],\n",
    "       [89, 59, 90, 78]])\n",
    "       \n",
    "       [1][2] means element of row 1 and in column 2"
   ]
  },
  {
   "cell_type": "code",
   "execution_count": 153,
   "metadata": {},
   "outputs": [
    {
     "data": {
      "text/plain": [
       "array([170, 171, 180])"
      ]
     },
     "execution_count": 153,
     "metadata": {},
     "output_type": "execute_result"
    }
   ],
   "source": [
    "heights[1:4]"
   ]
  },
  {
   "cell_type": "code",
   "execution_count": 157,
   "metadata": {},
   "outputs": [
    {
     "data": {
      "text/plain": [
       "array([[[50, 45],\n",
       "        [56, 78],\n",
       "        [78, 89],\n",
       "        [59, 90],\n",
       "        [89, 78],\n",
       "        [69, 70]],\n",
       "\n",
       "       [[67, 69],\n",
       "        [89, 70],\n",
       "        [90, 89],\n",
       "        [80, 84],\n",
       "        [89, 59],\n",
       "        [90, 78]]])"
      ]
     },
     "execution_count": 157,
     "metadata": {},
     "output_type": "execute_result"
    }
   ],
   "source": [
    "weights"
   ]
  },
  {
   "cell_type": "code",
   "execution_count": 163,
   "metadata": {},
   "outputs": [
    {
     "data": {
      "text/plain": [
       "array([[[50, 45],\n",
       "        [78, 89],\n",
       "        [89, 78]],\n",
       "\n",
       "       [[67, 69],\n",
       "        [90, 89],\n",
       "        [89, 59]]])"
      ]
     },
     "execution_count": 163,
     "metadata": {},
     "output_type": "execute_result"
    }
   ],
   "source": [
    "weights[:2, ::2]"
   ]
  },
  {
   "cell_type": "code",
   "execution_count": 164,
   "metadata": {},
   "outputs": [
    {
     "data": {
      "text/plain": [
       "array([[[59, 90],\n",
       "        [89, 78],\n",
       "        [69, 70]],\n",
       "\n",
       "       [[80, 84],\n",
       "        [89, 59],\n",
       "        [90, 78]]])"
      ]
     },
     "execution_count": 164,
     "metadata": {},
     "output_type": "execute_result"
    }
   ],
   "source": [
    "weights[:2, ::2]\n",
    "# or\n",
    "weights[:2, -3::]"
   ]
  },
  {
   "cell_type": "code",
   "execution_count": 155,
   "metadata": {},
   "outputs": [
    {
     "data": {
      "text/plain": [
       "array([[[50],\n",
       "        [56],\n",
       "        [78]],\n",
       "\n",
       "       [[67],\n",
       "        [89],\n",
       "        [90]]])"
      ]
     },
     "execution_count": 155,
     "metadata": {},
     "output_type": "execute_result"
    }
   ],
   "source": [
    "weights[:3, :3, :1]"
   ]
  },
  {
   "cell_type": "markdown",
   "metadata": {},
   "source": [
    "## Exercise 3\n",
    "Consider the weights_or array:\n",
    "\n",
    "1. Select all the values that are in the even positions in the rows and in the odd positions in the columns. Create a new array named weights_custom1 with these values.\n",
    "2. Express the weights_custom1 array flattened with an in-memory copy. Call the new array weights_custom2.\n",
    "3. Select items in positions 2 to 4 inclusive with negative indexing. Name the output array as weights_custom3."
   ]
  },
  {
   "cell_type": "code",
   "execution_count": 165,
   "metadata": {},
   "outputs": [
    {
     "data": {
      "text/plain": [
       "array([[50, 45, 56, 78],\n",
       "       [78, 89, 59, 90],\n",
       "       [89, 78, 69, 70],\n",
       "       [67, 69, 89, 70],\n",
       "       [90, 89, 80, 84],\n",
       "       [89, 59, 90, 78]])"
      ]
     },
     "execution_count": 165,
     "metadata": {},
     "output_type": "execute_result"
    }
   ],
   "source": [
    "weights_or = np.array([[50, 45, 56, 78],\n",
    "       [78, 89, 59, 90],\n",
    "       [89, 78, 69, 70],\n",
    "       [67, 69, 89, 70],\n",
    "       [90, 89, 80, 84],\n",
    "       [89, 59, 90, 78]])\n",
    "weights_or"
   ]
  },
  {
   "cell_type": "code",
   "execution_count": 180,
   "metadata": {},
   "outputs": [
    {
     "data": {
      "text/plain": [
       "array([78])"
      ]
     },
     "execution_count": 180,
     "metadata": {},
     "output_type": "execute_result"
    }
   ],
   "source": [
    "# 1\n",
    "\n",
    "weights_custom1 = weights_or[2,[1]]\n",
    "weights_custom1"
   ]
  },
  {
   "cell_type": "code",
   "execution_count": 178,
   "metadata": {},
   "outputs": [
    {
     "data": {
      "text/plain": [
       "array([50, 45, 56, 78, 78, 89, 59, 90, 89, 78, 69, 70, 67, 69, 89, 70, 90,\n",
       "       89, 80, 84, 89, 59, 90, 78])"
      ]
     },
     "execution_count": 178,
     "metadata": {},
     "output_type": "execute_result"
    }
   ],
   "source": [
    "# 2\n",
    "\n",
    "weights_custom2 = weights_or.flatten()\n",
    "weights_custom2"
   ]
  },
  {
   "cell_type": "code",
   "execution_count": 190,
   "metadata": {},
   "outputs": [
    {
     "data": {
      "text/plain": [
       "array([[89, 78, 69, 70],\n",
       "       [67, 69, 89, 70],\n",
       "       [90, 89, 80, 84]])"
      ]
     },
     "execution_count": 190,
     "metadata": {},
     "output_type": "execute_result"
    }
   ],
   "source": [
    "# 3\n",
    "# note the ending must be greater than the beginning\n",
    "weights_custom2 = weights_or[-4:-1]\n",
    "weights_custom2"
   ]
  },
  {
   "cell_type": "markdown",
   "metadata": {},
   "source": [
    "## 7.Manipulating Numpy arrays\n",
    "Arrays can be manipulated using arithmetic, logical, or relational operations in an element-wise way."
   ]
  },
  {
   "cell_type": "markdown",
   "metadata": {},
   "source": [
    "- You can use add() or + for adding two arrays together etc"
   ]
  },
  {
   "cell_type": "markdown",
   "metadata": {},
   "source": [
    "## Exercise 4\n",
    "Since we have seen how to add element-wise elements of one-dimensional arrays:\n",
    "\n",
    "1. Calculate the subtraction, multiplication and division between the heights_np and heights_2 arrays. Compare the results by using the functions: np.subtract(), np.multiply(), and np.divide().\n",
    "2. Calculate the product element-wise of the multiplicative inverses ($1/x$) between the arrays heights_np and heights_2, using numpy functions. For instante, if an element in heights_np $x1=5$ and an element in heights_2 $y1=4$, then the result should be $z=(1/x1)*(1/y1)=1/20=0.05$."
   ]
  },
  {
   "cell_type": "code",
   "execution_count": 3,
   "metadata": {},
   "outputs": [],
   "source": [
    "heights_2 =np.array([165, 175, 180, 189, 187, 186])"
   ]
  },
  {
   "cell_type": "code",
   "execution_count": 2,
   "metadata": {},
   "outputs": [
    {
     "data": {
      "text/plain": [
       "array([165, 170, 171, 180, 189, 178])"
      ]
     },
     "execution_count": 2,
     "metadata": {},
     "output_type": "execute_result"
    }
   ],
   "source": [
    "heights_np = np.array([165, 170, 171, 180, 189, 178])\n",
    "heights_np"
   ]
  },
  {
   "cell_type": "markdown",
   "metadata": {},
   "source": [
    "Question 1."
   ]
  },
  {
   "cell_type": "code",
   "execution_count": 8,
   "metadata": {},
   "outputs": [
    {
     "data": {
      "text/plain": [
       "array([330, 345, 351, 369, 376, 364])"
      ]
     },
     "execution_count": 8,
     "metadata": {},
     "output_type": "execute_result"
    }
   ],
   "source": [
    "# Adds two arrays together\n",
    "heights_add = np.add(heights_2, heights_np)\n",
    "heights_add"
   ]
  },
  {
   "cell_type": "code",
   "execution_count": 9,
   "metadata": {},
   "outputs": [
    {
     "data": {
      "text/plain": [
       "array([330, 345, 351, 369, 376, 364])"
      ]
     },
     "execution_count": 9,
     "metadata": {},
     "output_type": "execute_result"
    }
   ],
   "source": [
    "# adds two arrays together using the + sign\n",
    "heights_add2 = heights_2 + heights_np\n",
    "heights_add2"
   ]
  },
  {
   "cell_type": "code",
   "execution_count": 11,
   "metadata": {},
   "outputs": [
    {
     "data": {
      "text/plain": [
       "array([ 0, -5, -9, -9,  2, -8])"
      ]
     },
     "execution_count": 11,
     "metadata": {},
     "output_type": "execute_result"
    }
   ],
   "source": [
    "# Subtracts\n",
    "heights_sub = np.subtract(heights_np, heights_2)\n",
    "heights_sub"
   ]
  },
  {
   "cell_type": "code",
   "execution_count": null,
   "metadata": {},
   "outputs": [],
   "source": []
  },
  {
   "cell_type": "code",
   "execution_count": 12,
   "metadata": {},
   "outputs": [
    {
     "data": {
      "text/plain": [
       "array([27225, 29750, 30780, 34020, 35343, 33108])"
      ]
     },
     "execution_count": 12,
     "metadata": {},
     "output_type": "execute_result"
    }
   ],
   "source": [
    "# Multiply\n",
    "heights_mult = np.multiply(heights_np, heights_2)\n",
    "heights_mult"
   ]
  },
  {
   "cell_type": "code",
   "execution_count": 13,
   "metadata": {},
   "outputs": [
    {
     "data": {
      "text/plain": [
       "array([1.        , 0.97142857, 0.95      , 0.95238095, 1.01069519,\n",
       "       0.95698925])"
      ]
     },
     "execution_count": 13,
     "metadata": {},
     "output_type": "execute_result"
    }
   ],
   "source": [
    "# Divide\n",
    "heights_div = np.divide(heights_np, heights_2)\n",
    "heights_div"
   ]
  },
  {
   "cell_type": "markdown",
   "metadata": {},
   "source": [
    "Question 2"
   ]
  },
  {
   "cell_type": "code",
   "execution_count": 6,
   "metadata": {},
   "outputs": [
    {
     "name": "stdout",
     "output_type": "stream",
     "text": [
      "[[ 6  1  1]\n",
      " [ 4 -2  5]\n",
      " [ 2  8  7]]\n",
      "[[ 0.17647059 -0.00326797 -0.02287582]\n",
      " [ 0.05882353 -0.13071895  0.08496732]\n",
      " [-0.11764706  0.1503268   0.05228758]]\n"
     ]
    }
   ],
   "source": [
    "a = np.array([[6,1,1],\n",
    "             [4,-2,5],\n",
    "             [2,8,7]])\n",
    "print(a)\n",
    "print(np.linalg.inv(a))"
   ]
  },
  {
   "cell_type": "code",
   "execution_count": 8,
   "metadata": {
    "scrolled": true
   },
   "outputs": [
    {
     "ename": "LinAlgError",
     "evalue": "1-dimensional array given. Array must be at least two-dimensional",
     "output_type": "error",
     "traceback": [
      "\u001b[1;31m---------------------------------------------------------------------------\u001b[0m",
      "\u001b[1;31mLinAlgError\u001b[0m                               Traceback (most recent call last)",
      "\u001b[1;32m<ipython-input-8-a892869b4f02>\u001b[0m in \u001b[0;36m<module>\u001b[1;34m\u001b[0m\n\u001b[1;32m----> 1\u001b[1;33m \u001b[0mprint\u001b[0m\u001b[1;33m(\u001b[0m\u001b[0mnp\u001b[0m\u001b[1;33m.\u001b[0m\u001b[0mlinalg\u001b[0m\u001b[1;33m.\u001b[0m\u001b[0minv\u001b[0m\u001b[1;33m(\u001b[0m\u001b[0mheights_np\u001b[0m\u001b[1;33m)\u001b[0m\u001b[1;33m)\u001b[0m\u001b[1;33m\u001b[0m\u001b[1;33m\u001b[0m\u001b[0m\n\u001b[0m",
      "\u001b[1;32m~\\Anaconda3\\lib\\site-packages\\numpy\\linalg\\linalg.py\u001b[0m in \u001b[0;36minv\u001b[1;34m(a)\u001b[0m\n\u001b[0;32m    543\u001b[0m     \"\"\"\n\u001b[0;32m    544\u001b[0m     \u001b[0ma\u001b[0m\u001b[1;33m,\u001b[0m \u001b[0mwrap\u001b[0m \u001b[1;33m=\u001b[0m \u001b[0m_makearray\u001b[0m\u001b[1;33m(\u001b[0m\u001b[0ma\u001b[0m\u001b[1;33m)\u001b[0m\u001b[1;33m\u001b[0m\u001b[1;33m\u001b[0m\u001b[0m\n\u001b[1;32m--> 545\u001b[1;33m     \u001b[0m_assertRankAtLeast2\u001b[0m\u001b[1;33m(\u001b[0m\u001b[0ma\u001b[0m\u001b[1;33m)\u001b[0m\u001b[1;33m\u001b[0m\u001b[1;33m\u001b[0m\u001b[0m\n\u001b[0m\u001b[0;32m    546\u001b[0m     \u001b[0m_assertNdSquareness\u001b[0m\u001b[1;33m(\u001b[0m\u001b[0ma\u001b[0m\u001b[1;33m)\u001b[0m\u001b[1;33m\u001b[0m\u001b[1;33m\u001b[0m\u001b[0m\n\u001b[0;32m    547\u001b[0m     \u001b[0mt\u001b[0m\u001b[1;33m,\u001b[0m \u001b[0mresult_t\u001b[0m \u001b[1;33m=\u001b[0m \u001b[0m_commonType\u001b[0m\u001b[1;33m(\u001b[0m\u001b[0ma\u001b[0m\u001b[1;33m)\u001b[0m\u001b[1;33m\u001b[0m\u001b[1;33m\u001b[0m\u001b[0m\n",
      "\u001b[1;32m~\\Anaconda3\\lib\\site-packages\\numpy\\linalg\\linalg.py\u001b[0m in \u001b[0;36m_assertRankAtLeast2\u001b[1;34m(*arrays)\u001b[0m\n\u001b[0;32m    205\u001b[0m         \u001b[1;32mif\u001b[0m \u001b[0ma\u001b[0m\u001b[1;33m.\u001b[0m\u001b[0mndim\u001b[0m \u001b[1;33m<\u001b[0m \u001b[1;36m2\u001b[0m\u001b[1;33m:\u001b[0m\u001b[1;33m\u001b[0m\u001b[1;33m\u001b[0m\u001b[0m\n\u001b[0;32m    206\u001b[0m             raise LinAlgError('%d-dimensional array given. Array must be '\n\u001b[1;32m--> 207\u001b[1;33m                     'at least two-dimensional' % a.ndim)\n\u001b[0m\u001b[0;32m    208\u001b[0m \u001b[1;33m\u001b[0m\u001b[0m\n\u001b[0;32m    209\u001b[0m \u001b[1;32mdef\u001b[0m \u001b[0m_assertNdSquareness\u001b[0m\u001b[1;33m(\u001b[0m\u001b[1;33m*\u001b[0m\u001b[0marrays\u001b[0m\u001b[1;33m)\u001b[0m\u001b[1;33m:\u001b[0m\u001b[1;33m\u001b[0m\u001b[1;33m\u001b[0m\u001b[0m\n",
      "\u001b[1;31mLinAlgError\u001b[0m: 1-dimensional array given. Array must be at least two-dimensional"
     ]
    }
   ],
   "source": [
    "print(np.linalg.inv(heights_np))"
   ]
  },
  {
   "cell_type": "code",
   "execution_count": null,
   "metadata": {},
   "outputs": [],
   "source": [
    "help(np.linalg.inv)"
   ]
  },
  {
   "cell_type": "markdown",
   "metadata": {},
   "source": [
    "### 7.2 Logical Operations\n",
    "Logical operations are mathematical expressions whose result is a Boolean value of 0 (False) or 1 (True). Among the most common logical operations are the disjunction or conjunction and, and negation not operations among others."
   ]
  },
  {
   "cell_type": "code",
   "execution_count": 10,
   "metadata": {},
   "outputs": [],
   "source": [
    "x= np.array([True, True, False, False])\n",
    "y = np.array([True, False, True, False])"
   ]
  },
  {
   "cell_type": "markdown",
   "metadata": {},
   "source": [
    "We have logical_or, logical_and logical_not"
   ]
  },
  {
   "cell_type": "code",
   "execution_count": 12,
   "metadata": {},
   "outputs": [
    {
     "data": {
      "text/plain": [
       "array([ True, False, False, False])"
      ]
     },
     "execution_count": 12,
     "metadata": {},
     "output_type": "execute_result"
    }
   ],
   "source": [
    "np.logical_and(x,y)"
   ]
  },
  {
   "cell_type": "markdown",
   "metadata": {},
   "source": [
    "## 7.3 Comparison - Relational operators\n",
    "The comparison operators allow us to compare the values of the content of numpy arrays element-wise. Some operators of interest \n",
    "1. equality operator np.equal()\n",
    "2. less than operator np.less() / np.less_equal()\n",
    "3. greater than opeator np.greater() / np.greater_equal()\n",
    "4. difference operator np.not_equal()\n",
    "\n",
    "The output is always a Boolean"
   ]
  },
  {
   "cell_type": "code",
   "execution_count": 16,
   "metadata": {},
   "outputs": [],
   "source": [
    "a =np.array([1,8,3,7,21])\n",
    "b = np.array([4,8,1,7,6])"
   ]
  },
  {
   "cell_type": "code",
   "execution_count": 17,
   "metadata": {},
   "outputs": [
    {
     "data": {
      "text/plain": [
       "array([False,  True, False,  True, False])"
      ]
     },
     "execution_count": 17,
     "metadata": {},
     "output_type": "execute_result"
    }
   ],
   "source": [
    "np.equal(a,b)"
   ]
  },
  {
   "cell_type": "code",
   "execution_count": 18,
   "metadata": {},
   "outputs": [
    {
     "data": {
      "text/plain": [
       "True"
      ]
     },
     "execution_count": 18,
     "metadata": {},
     "output_type": "execute_result"
    }
   ],
   "source": [
    "a =np.array([1,8,3,7,21])\n",
    "b =np.array(list((1,8,3,7,21)))\n",
    "np.array_equal(a,b)"
   ]
  },
  {
   "cell_type": "markdown",
   "metadata": {},
   "source": [
    "# 8. Broadcasting\n",
    "numpy has the ability of opeating arrays of different shapes during arithmetic operations using *broadcasting,* so that arithmetic operations on arrays are done on corresponding elemensts. The broadcasting operation replicates oneofthe arrays along the dimensions of the other, if there is a mismatch of shapes. "
   ]
  },
  {
   "cell_type": "code",
   "execution_count": 22,
   "metadata": {},
   "outputs": [
    {
     "data": {
      "text/plain": [
       "array([[[0.16126538, 0.75370929, 0.12224362, 0.9882305 ]],\n",
       "\n",
       "       [[0.99631422, 0.62563755, 0.80740788, 0.24510606]],\n",
       "\n",
       "       [[0.47870015, 0.48589984, 0.32787271, 0.64735243]],\n",
       "\n",
       "       [[0.46429462, 0.26557514, 0.13497324, 0.17437826]],\n",
       "\n",
       "       [[0.36896757, 0.1990745 , 0.07342654, 0.22092671]]])"
      ]
     },
     "execution_count": 22,
     "metadata": {},
     "output_type": "execute_result"
    }
   ],
   "source": [
    "x = np.ones((3,4))\n",
    "y = np.random.random((5,1,4))\n",
    "y"
   ]
  },
  {
   "cell_type": "code",
   "execution_count": 23,
   "metadata": {},
   "outputs": [
    {
     "data": {
      "text/plain": [
       "array([[[1.16126538, 1.75370929, 1.12224362, 1.9882305 ],\n",
       "        [1.16126538, 1.75370929, 1.12224362, 1.9882305 ],\n",
       "        [1.16126538, 1.75370929, 1.12224362, 1.9882305 ]],\n",
       "\n",
       "       [[1.99631422, 1.62563755, 1.80740788, 1.24510606],\n",
       "        [1.99631422, 1.62563755, 1.80740788, 1.24510606],\n",
       "        [1.99631422, 1.62563755, 1.80740788, 1.24510606]],\n",
       "\n",
       "       [[1.47870015, 1.48589984, 1.32787271, 1.64735243],\n",
       "        [1.47870015, 1.48589984, 1.32787271, 1.64735243],\n",
       "        [1.47870015, 1.48589984, 1.32787271, 1.64735243]],\n",
       "\n",
       "       [[1.46429462, 1.26557514, 1.13497324, 1.17437826],\n",
       "        [1.46429462, 1.26557514, 1.13497324, 1.17437826],\n",
       "        [1.46429462, 1.26557514, 1.13497324, 1.17437826]],\n",
       "\n",
       "       [[1.36896757, 1.1990745 , 1.07342654, 1.22092671],\n",
       "        [1.36896757, 1.1990745 , 1.07342654, 1.22092671],\n",
       "        [1.36896757, 1.1990745 , 1.07342654, 1.22092671]]])"
      ]
     },
     "execution_count": 23,
     "metadata": {},
     "output_type": "execute_result"
    }
   ],
   "source": [
    "z = x + y\n",
    "z"
   ]
  },
  {
   "cell_type": "markdown",
   "metadata": {},
   "source": [
    "We can add arrays of different dimensions together. It works just like matrixes in mathematics"
   ]
  },
  {
   "cell_type": "markdown",
   "metadata": {},
   "source": [
    "### Exercise 5\n",
    "\n",
    "Purpose an array y such that the operations $x + y$ results in the array z."
   ]
  },
  {
   "cell_type": "code",
   "execution_count": 28,
   "metadata": {},
   "outputs": [],
   "source": [
    "x = [[14, 15,18],\n",
    "    [62, 90, 98],\n",
    "    [71, 73, 90],\n",
    "    [40, 24, 17],\n",
    "    [11, 81, 14],\n",
    "    [26, 81, 31]]\n",
    "\n",
    "z = [[24, 40, 58],\n",
    "    [72, 115, 138],\n",
    "    [81, 98, 130],\n",
    "    [50, 49, 57],\n",
    "    [21, 106, 54],\n",
    "    [36, 106, 71]]"
   ]
  },
  {
   "cell_type": "code",
   "execution_count": 33,
   "metadata": {},
   "outputs": [
    {
     "data": {
      "text/plain": [
       "array([[10, 25, 40],\n",
       "       [10, 25, 40],\n",
       "       [10, 25, 40],\n",
       "       [10, 25, 40],\n",
       "       [10, 25, 40],\n",
       "       [10, 25, 40]])"
      ]
     },
     "execution_count": 33,
     "metadata": {},
     "output_type": "execute_result"
    }
   ],
   "source": [
    "y = np.array(z) - np.array(x)\n",
    "y"
   ]
  },
  {
   "cell_type": "markdown",
   "metadata": {},
   "source": [
    "## 9. Matrix multiplication\n",
    "It can be used for product multiplication "
   ]
  },
  {
   "cell_type": "code",
   "execution_count": 10,
   "metadata": {},
   "outputs": [
    {
     "name": "stdout",
     "output_type": "stream",
     "text": [
      "[[1 1 8]\n",
      " [0 1 9]\n",
      " [9 0 8]] \n",
      "\n",
      "[[2 0 0]\n",
      " [3 4 9]\n",
      " [7 8 9]]\n"
     ]
    }
   ],
   "source": [
    "A = np.array([[1,1,8], [0,1,9],[9,0,8]])\n",
    "print(a, '\\n')\n",
    "B = np.array([[2,0,0],[3,4,9],[7,8,9]])\n",
    "print(b)"
   ]
  },
  {
   "cell_type": "code",
   "execution_count": 13,
   "metadata": {},
   "outputs": [
    {
     "name": "stdout",
     "output_type": "stream",
     "text": [
      "Element wise multiplication \n",
      " [[ 2  0  0]\n",
      " [ 0  4 81]\n",
      " [63  0 72]]\n"
     ]
    }
   ],
   "source": [
    "print(\"Element wise multiplication \\n\", A*B)"
   ]
  },
  {
   "cell_type": "code",
   "execution_count": 17,
   "metadata": {},
   "outputs": [
    {
     "name": "stdout",
     "output_type": "stream",
     "text": [
      "Matrix product:\n",
      " [[61 68 81]\n",
      " [66 76 90]\n",
      " [74 64 72]]\n",
      "\n",
      "Dot product:\n",
      " [[61 68 81]\n",
      " [66 76 90]\n",
      " [74 64 72]]\n"
     ]
    }
   ],
   "source": [
    "print(\"Matrix product:\\n\", A@B)\n",
    "print()\n",
    "print(\"Dot product:\\n\", np.dot(A,B))"
   ]
  },
  {
   "cell_type": "markdown",
   "metadata": {},
   "source": [
    "## 10. Arrays with random numbers.\n",
    "A random numbers is a result of a variable combination specified bu a distribution function. When no distribution is specified, it is assumed that the continuous uniform distribution in the interval (0,1) is used. Some funcitons for grenerating random numpy numbers are:\n",
    "* np.random.random() : returns random floats in the half-open interval [0.0, 1.0]\n",
    "* np.random.randint(low, high) : returns random integers from low(inclusive) to high(exclusive).\n",
    "* np.random.normal() : returns random samp;es from a normal (Gaussian) distribution."
   ]
  },
  {
   "cell_type": "code",
   "execution_count": 41,
   "metadata": {},
   "outputs": [
    {
     "data": {
      "text/plain": [
       "array([[0.22140044, 0.69390865, 0.44989856],\n",
       "       [0.49699089, 0.67937729, 0.94517393],\n",
       "       [0.37464714, 0.74447074, 0.34241114],\n",
       "       [0.66288513, 0.90590505, 0.20048942]])"
      ]
     },
     "execution_count": 41,
     "metadata": {},
     "output_type": "execute_result"
    }
   ],
   "source": [
    "# Note it takes a tuples\n",
    "\n",
    "\n",
    "np.random.random((4,3))"
   ]
  },
  {
   "cell_type": "code",
   "execution_count": 36,
   "metadata": {
    "scrolled": true
   },
   "outputs": [
    {
     "data": {
      "text/plain": [
       "array([[13, 17, 16, 19, 14],\n",
       "       [11, 18, 10, 14, 10]])"
      ]
     },
     "execution_count": 36,
     "metadata": {},
     "output_type": "execute_result"
    }
   ],
   "source": [
    "np.random.randint(10,20, size=(2,5))"
   ]
  },
  {
   "cell_type": "code",
   "execution_count": 37,
   "metadata": {},
   "outputs": [
    {
     "data": {
      "text/plain": [
       "array([ 0.52224089,  2.11417476, -0.45023085,  0.13698703, -1.86169591,\n",
       "        0.03657745,  1.37406298,  0.07893959, -1.79007582, -0.68975882])"
      ]
     },
     "execution_count": 37,
     "metadata": {},
     "output_type": "execute_result"
    }
   ],
   "source": [
    "np.random.normal(size=10)"
   ]
  },
  {
   "cell_type": "code",
   "execution_count": 42,
   "metadata": {},
   "outputs": [
    {
     "name": "stdout",
     "output_type": "stream",
     "text": [
      "[0.74331599 0.24558271 0.33082093 0.71413031 0.53379637 0.59581854\n",
      " 0.64716553 0.75791938 0.58261116 0.96066341]\n"
     ]
    }
   ],
   "source": [
    "from numpy.random import seed\n",
    "from numpy.random import rand\n",
    "\n",
    "a = rand(10)\n",
    "print(a)"
   ]
  },
  {
   "cell_type": "markdown",
   "metadata": {},
   "source": [
    "## 11. Concatenate and stack Numpy arrays\n",
    "This is used to concatenate arrays together using either np.concatenate or np.append. It takes two parameters.\n",
    "\n",
    "We can also stack - it means joining arraus ona new axis. We used np.hstack() -for horizontal; np.c() for column "
   ]
  },
  {
   "cell_type": "markdown",
   "metadata": {},
   "source": [
    "## 12. Visualize Numpy array\n",
    "\n",
    "We use matplotlib.pyplot for this"
   ]
  },
  {
   "cell_type": "code",
   "execution_count": 49,
   "metadata": {},
   "outputs": [],
   "source": [
    "import matplotlib.pyplot as plt\n"
   ]
  },
  {
   "cell_type": "code",
   "execution_count": 65,
   "metadata": {},
   "outputs": [
    {
     "data": {
      "image/png": "[encoded data removed]",
      "text/plain": [
       "<Figure size 432x288 with 1 Axes>"
      ]
     },
     "metadata": {
      "needs_background": "light"
     },
     "output_type": "display_data"
    }
   ],
   "source": [
    "x = np.array([2,5,4,6])\n",
    "y =np.array([1,6,7,8])\n",
    "\n",
    "plt.title(\"Testing\")\n",
    "plt.xlabel(\"Age\")\n",
    "plt.ylabel(\"Riches\")\n",
    "plt.bar(x,y)\n",
    "plt.show()"
   ]
  },
  {
   "cell_type": "code",
   "execution_count": 68,
   "metadata": {},
   "outputs": [],
   "source": [
    "# create an array\n",
    "points = np.arange(-5, 5,0.01)"
   ]
  },
  {
   "cell_type": "code",
   "execution_count": 71,
   "metadata": {},
   "outputs": [],
   "source": [
    "# Make a meshgrid\n",
    "xs, ys = np.meshgrid(points, points)\n",
    "z =np.sqrt(xs ** 2 + ys ** 2)\n"
   ]
  },
  {
   "cell_type": "code",
   "execution_count": 76,
   "metadata": {},
   "outputs": [
    {
     "data": {
      "image/png": "[encoded data removed]",
      "text/plain": [
       "<Figure size 432x288 with 2 Axes>"
      ]
     },
     "metadata": {
      "needs_background": "light"
     },
     "output_type": "display_data"
    }
   ],
   "source": [
    "# Display the image on the axes\n",
    "plt.imshow(z, cmap=plt.cm.Reds)\n",
    "\n",
    "plt.colorbar()\n",
    "\n",
    "plt.show()"
   ]
  },
  {
   "cell_type": "markdown",
   "metadata": {},
   "source": [
    "# 13. Save the numpy ndarry object into a npy file"
   ]
  },
  {
   "cell_type": "code",
   "execution_count": 91,
   "metadata": {},
   "outputs": [
    {
     "name": "stdout",
     "output_type": "stream",
     "text": [
      "[0 1 2 3 4]\n",
      "5\n"
     ]
    },
    {
     "data": {
      "text/plain": [
       "5"
      ]
     },
     "execution_count": 91,
     "metadata": {},
     "output_type": "execute_result"
    }
   ],
   "source": [
    "x= np.arange(start=0, stop=5, step=1)\n",
    "print(x)\n",
    "print(len(x))\n",
    "x.size\n"
   ]
  },
  {
   "cell_type": "code",
   "execution_count": 82,
   "metadata": {},
   "outputs": [],
   "source": [
    "np.savetxt('ttest.txt', x, delimiter=',')"
   ]
  },
  {
   "cell_type": "code",
   "execution_count": 98,
   "metadata": {},
   "outputs": [
    {
     "name": "stdout",
     "output_type": "stream",
     "text": [
      "[0. 0. 0. 0. 0. 0.] \n",
      " [ 0  2  4  6  8 10] \n",
      " Sum is \n",
      " [ 0.  2.  4.  6.  8. 10.]\n"
     ]
    }
   ],
   "source": [
    "a= np.zeros(6)\n",
    "b=np.arange(0,12,2)\n",
    "c=a+b\n",
    "print(a, '\\n', b, \"\\n Sum is \\n\", c)"
   ]
  },
  {
   "cell_type": "code",
   "execution_count": 99,
   "metadata": {},
   "outputs": [
    {
     "name": "stdout",
     "output_type": "stream",
     "text": [
      "6\n"
     ]
    }
   ],
   "source": [
    "a = np.array([[1,2,3],[0,1,4]])\n",
    "print(a.size)"
   ]
  },
  {
   "cell_type": "code",
   "execution_count": null,
   "metadata": {},
   "outputs": [],
   "source": []
  }
 ],
 "metadata": {
  "kernelspec": {
   "display_name": "Python 3",
   "language": "python",
   "name": "python3"
  }
 },
 "nbformat": 4,
 "nbformat_minor": 2
}
