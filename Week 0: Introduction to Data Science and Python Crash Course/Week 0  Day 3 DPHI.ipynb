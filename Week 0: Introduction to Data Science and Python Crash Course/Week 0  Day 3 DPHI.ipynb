{
 "cells": [
  {
   "cell_type": "code",
   "execution_count": null,
   "metadata": {},
   "outputs": [],
   "source": [
    "for i"
   ]
  },
  {
   "cell_type": "markdown",
   "metadata": {},
   "source": [
    "# Dictionary "
   ]
  },
  {
   "cell_type": "code",
   "execution_count": 6,
   "metadata": {},
   "outputs": [
    {
     "name": "stdout",
     "output_type": "stream",
     "text": [
      "US33.5\n",
      "Algeria39.21\n",
      "Albania2.77\n"
     ]
    }
   ],
   "source": [
    "world = {\"US\": 33.5, \"Algeria\":39.21, \"Albania\":2.77}\n",
    "for key, value in world.items():\n",
    "    print(key + str(value))"
   ]
  },
  {
   "cell_type": "code",
   "execution_count": 8,
   "metadata": {},
   "outputs": [
    {
     "name": "stdout",
     "output_type": "stream",
     "text": [
      "500\n",
      "['flint', 'twine', 'gemstone']\n",
      "['xylophone', 'daggar']\n",
      "breadloaf\n"
     ]
    }
   ],
   "source": [
    "inventory = {\n",
    "    \"gold\":500,\n",
    "    \"pouch\":[\"flint\", \"twine\",\"gemstone\"],\n",
    "    \"backpack\":[\"xylophone\",\"daggar\"],\n",
    "    \"bedroll\":\"breadloaf\"\n",
    "}\n",
    "\n",
    "for i in inventory:\n",
    "    print(inventory[i])"
   ]
  },
  {
   "cell_type": "code",
   "execution_count": 9,
   "metadata": {},
   "outputs": [
    {
     "name": "stdout",
     "output_type": "stream",
     "text": [
      "{'gold': 500, 'pouch': ['flint', 'twine', 'gemstone'], 'backpack': ['xylophone', 'daggar'], 'bedroll': 'breadloaf', 'pocket': ['Seashell', 'strange berry', 'lint']}\n"
     ]
    }
   ],
   "source": [
    "# Add a key to the inventory\n",
    "inventory[\"pocket\"] =[\"Seashell\", \"strange berry\", \"lint\"]\n",
    "\n",
    "print(inventory)"
   ]
  },
  {
   "cell_type": "code",
   "execution_count": 23,
   "metadata": {},
   "outputs": [
    {
     "name": "stdout",
     "output_type": "stream",
     "text": [
      "Daggar\n",
      "Xylophone\n",
      "['daggar', 'xylophone']\n",
      "None\n"
     ]
    }
   ],
   "source": [
    "inv = inventory[\"backpack\"]\n",
    "print(inv)\n",
    "print(inv.sort())"
   ]
  },
  {
   "cell_type": "code",
   "execution_count": 21,
   "metadata": {},
   "outputs": [
    {
     "name": "stdout",
     "output_type": "stream",
     "text": [
      "['apple', 'bananna']\n"
     ]
    }
   ],
   "source": [
    "lista = [\"apple\", \"yam\", \"bananna\"]\n",
    "lista2 = lista.sort()\n",
    "print(lista)"
   ]
  },
  {
   "cell_type": "code",
   "execution_count": 40,
   "metadata": {},
   "outputs": [
    {
     "name": "stdout",
     "output_type": "stream",
     "text": [
      "{1: 'Jill', 2: 'Jack', 3: 'jim', 4: 'Jane'}\n",
      "dict_keys([3, 2, 4, 1]) dict_values(['jim', 'Jack', 'Jane', 'Jill'])\n"
     ]
    }
   ],
   "source": [
    "people = {\n",
    "    3:\"jim\",\n",
    "    2:\"Jack\",\n",
    "    4:\"Jane\",\n",
    "    1:\"Jill\"\n",
    "}\n",
    "\n",
    "print(dict(sorted(people.items())))\n",
    "\n",
    "# keys and value\n",
    "keys = people.keys()\n",
    "values = people.values()\n",
    "print(keys, values)"
   ]
  },
  {
   "cell_type": "code",
   "execution_count": 48,
   "metadata": {},
   "outputs": [
    {
     "name": "stdout",
     "output_type": "stream",
     "text": [
      "{'Apple': 2, 'Pineapple': 7, 'Cherry': 3}\n",
      "{'Apple': [3, 4], 'Pineapple': 7, 'Cherry': 3}\n"
     ]
    }
   ],
   "source": [
    "# Use of Zip to combine two list to a dict\n",
    "fruit = [\"Apple\", \"Pineapple\", \"Cherry\"]\n",
    "quantity =[2,7,3]\n",
    "\n",
    "combination = dict(zip(fruit, quantity))\n",
    "print(combination)\n",
    "\n",
    "# convert key to list\n",
    "a = {'Apple': 2, 'Pineapple': 7, 'Cherry': 3}\n",
    "a.update({\"Apple\":[3,4]})\n",
    "print(a)"
   ]
  },
  {
   "cell_type": "code",
   "execution_count": null,
   "metadata": {},
   "outputs": [],
   "source": []
  },
  {
   "cell_type": "markdown",
   "metadata": {},
   "source": [
    "## QUIZ"
   ]
  },
  {
   "cell_type": "code",
   "execution_count": 51,
   "metadata": {},
   "outputs": [
    {
     "name": "stdout",
     "output_type": "stream",
     "text": [
      "True\n"
     ]
    }
   ],
   "source": [
    "a, b= 12,5\n",
    "\n",
    "if a+b:\n",
    "    print(\"True\")\n",
    "else:\n",
    "    print(\"False\")"
   ]
  },
  {
   "cell_type": "code",
   "execution_count": 57,
   "metadata": {},
   "outputs": [
    {
     "name": "stdout",
     "output_type": "stream",
     "text": [
      "10.2,3,10\n",
      "11.2,11\n",
      "12.2,3,4,5,6,7,8,9,10,11,12\n",
      "13.2,13\n"
     ]
    }
   ],
   "source": [
    "for num in range(10,14):\n",
    "    for i in range(2,num):\n",
    "        if num%i == 1:\n",
    "            print(num)\n",
    "            break"
   ]
  },
  {
   "cell_type": "code",
   "execution_count": 63,
   "metadata": {},
   "outputs": [
    {
     "name": "stdout",
     "output_type": "stream",
     "text": [
      "dict_keys(['John', 'Peter'])\n",
      "2\n"
     ]
    }
   ],
   "source": [
    "d = {\"John\":40, \"Peter\":45}\n",
    "print(d.keys())\n",
    "print(len(d))"
   ]
  },
  {
   "cell_type": "code",
   "execution_count": null,
   "metadata": {},
   "outputs": [],
   "source": [
    "var = 10\n",
    "for i in range(10):\n",
    "    for j in range(2,10,1):\n",
    "        if var % 2 == 0:\n",
    "            continue\n",
    "            var += 1\n",
    "        var +=1\n",
    "else:\n",
    "    var+= 1\n",
    "print(var)"
   ]
  }
 ],
 "metadata": {
  "kernelspec": {
   "display_name": "Python 3",
   "language": "python",
   "name": "python3"
  },
  "language_info": {
   "codemirror_mode": {
    "name": "ipython",
    "version": 3
   },
   "file_extension": ".py",
   "mimetype": "text/x-python",
   "name": "python",
   "nbconvert_exporter": "python",
   "pygments_lexer": "ipython3",
   "version": "3.7.4"
  }
 },
 "nbformat": 4,
 "nbformat_minor": 2
}
