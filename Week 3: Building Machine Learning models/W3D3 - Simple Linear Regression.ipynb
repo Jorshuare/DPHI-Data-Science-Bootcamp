{
 "cells": [
  {
   "cell_type": "markdown",
   "metadata": {},
   "source": [
    "# Learning Objectives\n",
    "- Dependent and Independent Variables\n",
    "- Equation of a Straight Line\n",
    "- Linear regression\n",
    "- Cost"
   ]
  },
  {
   "cell_type": "markdown",
   "metadata": {},
   "source": [
    "### Dependent and Independent Variables\n",
    "\n",
    "1. Input variables = Attributes = Predictor =  independent variables\n",
    "2. Output/target = Labels = Outcomes = Dependent variables; their values depend on `1`\n",
    "\n",
    "For example we want to work on crime rates - we take the students, job opens and crime rate data; the student and job opens are the input while the crime rate are the output"
   ]
  },
  {
   "cell_type": "markdown",
   "metadata": {},
   "source": [
    "#### Equation of a Straight Line\n",
    "\n",
    "Calculated using equation $y = mx+ c$\n",
    "\n",
    "`m` is gradient = change in y / change in x\n",
    "\n",
    "`c` is the intercept"
   ]
  },
  {
   "cell_type": "markdown",
   "metadata": {},
   "source": [
    "#### Linear Regression\n",
    "\n",
    "* It is a linear model - straight line relationship model btw input var(x) and single output(y)\n",
    "* Single x - Simple Linear Regression while multiple x - multiple LR\n"
   ]
  },
  {
   "cell_type": "markdown",
   "metadata": {},
   "source": [
    "#### Cost\n",
    "\n",
    "- Cost is how far off the **learned** line is from the **real data**\n",
    "- We use a cost function for this - it measures how wrong the model is by estimating X and y"
   ]
  },
  {
   "cell_type": "code",
   "execution_count": null,
   "metadata": {},
   "outputs": [],
   "source": []
  }
 ],
 "metadata": {
  "kernelspec": {
   "display_name": "Python 3",
   "language": "python",
   "name": "python3"
  },
  "language_info": {
   "codemirror_mode": {
    "name": "ipython",
    "version": 3
   },
   "file_extension": ".py",
   "mimetype": "text/x-python",
   "name": "python",
   "nbconvert_exporter": "python",
   "pygments_lexer": "ipython3",
   "version": "3.7.4"
  }
 },
 "nbformat": 4,
 "nbformat_minor": 2
}
